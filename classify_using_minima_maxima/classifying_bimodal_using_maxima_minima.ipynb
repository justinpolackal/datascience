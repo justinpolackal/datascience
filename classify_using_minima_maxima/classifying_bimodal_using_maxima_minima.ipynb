{
 "cells": [
  {
   "cell_type": "code",
   "execution_count": 7,
   "metadata": {},
   "outputs": [],
   "source": [
    "import numpy as np\n",
    "import pandas as pd\n",
    "import matplotlib.pyplot as plt\n",
    "import seaborn as sns\n",
    "from scipy import stats\n",
    "from scipy import signal\n",
    "%matplotlib inline"
   ]
  },
  {
   "cell_type": "code",
   "execution_count": 57,
   "metadata": {},
   "outputs": [
    {
     "data": {
      "text/html": [
       "<div>\n",
       "<style scoped>\n",
       "    .dataframe tbody tr th:only-of-type {\n",
       "        vertical-align: middle;\n",
       "    }\n",
       "\n",
       "    .dataframe tbody tr th {\n",
       "        vertical-align: top;\n",
       "    }\n",
       "\n",
       "    .dataframe thead th {\n",
       "        text-align: right;\n",
       "    }\n",
       "</style>\n",
       "<table border=\"1\" class=\"dataframe\">\n",
       "  <thead>\n",
       "    <tr style=\"text-align: right;\">\n",
       "      <th></th>\n",
       "      <th>default</th>\n",
       "      <th>student</th>\n",
       "      <th>balance</th>\n",
       "      <th>income</th>\n",
       "    </tr>\n",
       "  </thead>\n",
       "  <tbody>\n",
       "    <tr>\n",
       "      <th>0</th>\n",
       "      <td>No</td>\n",
       "      <td>No</td>\n",
       "      <td>729.526495</td>\n",
       "      <td>44361.625074</td>\n",
       "    </tr>\n",
       "    <tr>\n",
       "      <th>1</th>\n",
       "      <td>No</td>\n",
       "      <td>Yes</td>\n",
       "      <td>817.180407</td>\n",
       "      <td>12106.134700</td>\n",
       "    </tr>\n",
       "    <tr>\n",
       "      <th>2</th>\n",
       "      <td>No</td>\n",
       "      <td>No</td>\n",
       "      <td>1073.549164</td>\n",
       "      <td>31767.138947</td>\n",
       "    </tr>\n",
       "    <tr>\n",
       "      <th>3</th>\n",
       "      <td>No</td>\n",
       "      <td>No</td>\n",
       "      <td>529.250605</td>\n",
       "      <td>35704.493935</td>\n",
       "    </tr>\n",
       "    <tr>\n",
       "      <th>4</th>\n",
       "      <td>No</td>\n",
       "      <td>No</td>\n",
       "      <td>785.655883</td>\n",
       "      <td>38463.495879</td>\n",
       "    </tr>\n",
       "  </tbody>\n",
       "</table>\n",
       "</div>"
      ],
      "text/plain": [
       "  default student      balance        income\n",
       "0      No      No   729.526495  44361.625074\n",
       "1      No     Yes   817.180407  12106.134700\n",
       "2      No      No  1073.549164  31767.138947\n",
       "3      No      No   529.250605  35704.493935\n",
       "4      No      No   785.655883  38463.495879"
      ]
     },
     "execution_count": 57,
     "metadata": {},
     "output_type": "execute_result"
    }
   ],
   "source": [
    "data = pd.read_csv(\"default.csv\", sep=\",\", header=0)\n",
    "data.head()"
   ]
  },
  {
   "cell_type": "code",
   "execution_count": 49,
   "metadata": {},
   "outputs": [
    {
     "name": "stderr",
     "output_type": "stream",
     "text": [
      "/home/justin/anaconda3/lib/python3.6/site-packages/matplotlib/axes/_axes.py:6462: UserWarning: The 'normed' kwarg is deprecated, and has been replaced by the 'density' kwarg.\n",
      "  warnings.warn(\"The 'normed' kwarg is deprecated, and has been \"\n"
     ]
    },
    {
     "data": {
      "text/plain": [
       "<matplotlib.axes._subplots.AxesSubplot at 0x7fc2da4af208>"
      ]
     },
     "execution_count": 49,
     "metadata": {},
     "output_type": "execute_result"
    },
    {
     "data": {
      "image/png": "[encoded data removed]",
      "text/plain": [
       "<Figure size 432x288 with 1 Axes>"
      ]
     },
     "metadata": {},
     "output_type": "display_data"
    }
   ],
   "source": [
    "sns.distplot(data[\"income\"])"
   ]
  },
  {
   "cell_type": "markdown",
   "metadata": {},
   "source": [
    "### Calculate local maxima for income"
   ]
  },
  {
   "cell_type": "code",
   "execution_count": 58,
   "metadata": {},
   "outputs": [],
   "source": [
    "maxindices = signal.argrelextrema(data[\"income\"].values, np.greater_equal)[0]\n",
    "local_maxima = np.median(data[\"income\"].values[maxindices])"
   ]
  },
  {
   "cell_type": "markdown",
   "metadata": {},
   "source": [
    "### Calculate local minima for income"
   ]
  },
  {
   "cell_type": "code",
   "execution_count": 59,
   "metadata": {},
   "outputs": [],
   "source": [
    "minindices = signal.argrelextrema(data[\"income\"].values, np.less_equal)[0]\n",
    "local_minima = np.median(data[\"income\"].values[minindices])"
   ]
  },
  {
   "cell_type": "code",
   "execution_count": 60,
   "metadata": {},
   "outputs": [
    {
     "name": "stdout",
     "output_type": "stream",
     "text": [
      "45385.3113268622\n",
      "19541.0460996816\n"
     ]
    }
   ],
   "source": [
    "print(local_maxima)\n",
    "print(local_minima)"
   ]
  },
  {
   "cell_type": "markdown",
   "metadata": {},
   "source": [
    "### Insert local maxima and minima as columns "
   ]
  },
  {
   "cell_type": "code",
   "execution_count": 61,
   "metadata": {},
   "outputs": [],
   "source": [
    "data[\"local_maxima\"] = local_maxima\n",
    "data[\"local_minima\"] = local_minima"
   ]
  },
  {
   "cell_type": "code",
   "execution_count": 62,
   "metadata": {},
   "outputs": [
    {
     "data": {
      "text/html": [
       "<div>\n",
       "<style scoped>\n",
       "    .dataframe tbody tr th:only-of-type {\n",
       "        vertical-align: middle;\n",
       "    }\n",
       "\n",
       "    .dataframe tbody tr th {\n",
       "        vertical-align: top;\n",
       "    }\n",
       "\n",
       "    .dataframe thead th {\n",
       "        text-align: right;\n",
       "    }\n",
       "</style>\n",
       "<table border=\"1\" class=\"dataframe\">\n",
       "  <thead>\n",
       "    <tr style=\"text-align: right;\">\n",
       "      <th></th>\n",
       "      <th>default</th>\n",
       "      <th>student</th>\n",
       "      <th>balance</th>\n",
       "      <th>income</th>\n",
       "      <th>local_maxima</th>\n",
       "      <th>local_minima</th>\n",
       "    </tr>\n",
       "  </thead>\n",
       "  <tbody>\n",
       "    <tr>\n",
       "      <th>0</th>\n",
       "      <td>No</td>\n",
       "      <td>No</td>\n",
       "      <td>729.526495</td>\n",
       "      <td>44361.625074</td>\n",
       "      <td>45385.311327</td>\n",
       "      <td>19541.0461</td>\n",
       "    </tr>\n",
       "    <tr>\n",
       "      <th>1</th>\n",
       "      <td>No</td>\n",
       "      <td>Yes</td>\n",
       "      <td>817.180407</td>\n",
       "      <td>12106.134700</td>\n",
       "      <td>45385.311327</td>\n",
       "      <td>19541.0461</td>\n",
       "    </tr>\n",
       "    <tr>\n",
       "      <th>2</th>\n",
       "      <td>No</td>\n",
       "      <td>No</td>\n",
       "      <td>1073.549164</td>\n",
       "      <td>31767.138947</td>\n",
       "      <td>45385.311327</td>\n",
       "      <td>19541.0461</td>\n",
       "    </tr>\n",
       "    <tr>\n",
       "      <th>3</th>\n",
       "      <td>No</td>\n",
       "      <td>No</td>\n",
       "      <td>529.250605</td>\n",
       "      <td>35704.493935</td>\n",
       "      <td>45385.311327</td>\n",
       "      <td>19541.0461</td>\n",
       "    </tr>\n",
       "    <tr>\n",
       "      <th>4</th>\n",
       "      <td>No</td>\n",
       "      <td>No</td>\n",
       "      <td>785.655883</td>\n",
       "      <td>38463.495879</td>\n",
       "      <td>45385.311327</td>\n",
       "      <td>19541.0461</td>\n",
       "    </tr>\n",
       "  </tbody>\n",
       "</table>\n",
       "</div>"
      ],
      "text/plain": [
       "  default student      balance        income  local_maxima  local_minima\n",
       "0      No      No   729.526495  44361.625074  45385.311327    19541.0461\n",
       "1      No     Yes   817.180407  12106.134700  45385.311327    19541.0461\n",
       "2      No      No  1073.549164  31767.138947  45385.311327    19541.0461\n",
       "3      No      No   529.250605  35704.493935  45385.311327    19541.0461\n",
       "4      No      No   785.655883  38463.495879  45385.311327    19541.0461"
      ]
     },
     "execution_count": 62,
     "metadata": {},
     "output_type": "execute_result"
    }
   ],
   "source": [
    "data.head()"
   ]
  },
  {
   "cell_type": "markdown",
   "metadata": {},
   "source": [
    "#### Calculate proximity for each income value to the maxima as well as minima"
   ]
  },
  {
   "cell_type": "code",
   "execution_count": 63,
   "metadata": {},
   "outputs": [],
   "source": [
    "data[\"proximity_maxima\"] = data.apply(lambda row: abs(row[\"income\"]-row[\"local_maxima\"]), axis=1)\n",
    "data[\"proximity_minima\"] = data.apply(lambda row: abs(row[\"income\"]-row[\"local_minima\"]), axis=1)"
   ]
  },
  {
   "cell_type": "code",
   "execution_count": 64,
   "metadata": {},
   "outputs": [
    {
     "data": {
      "text/html": [
       "<div>\n",
       "<style scoped>\n",
       "    .dataframe tbody tr th:only-of-type {\n",
       "        vertical-align: middle;\n",
       "    }\n",
       "\n",
       "    .dataframe tbody tr th {\n",
       "        vertical-align: top;\n",
       "    }\n",
       "\n",
       "    .dataframe thead th {\n",
       "        text-align: right;\n",
       "    }\n",
       "</style>\n",
       "<table border=\"1\" class=\"dataframe\">\n",
       "  <thead>\n",
       "    <tr style=\"text-align: right;\">\n",
       "      <th></th>\n",
       "      <th>default</th>\n",
       "      <th>student</th>\n",
       "      <th>balance</th>\n",
       "      <th>income</th>\n",
       "      <th>local_maxima</th>\n",
       "      <th>local_minima</th>\n",
       "      <th>proximity_maxima</th>\n",
       "      <th>proximity_minima</th>\n",
       "    </tr>\n",
       "  </thead>\n",
       "  <tbody>\n",
       "    <tr>\n",
       "      <th>0</th>\n",
       "      <td>No</td>\n",
       "      <td>No</td>\n",
       "      <td>729.526495</td>\n",
       "      <td>44361.625074</td>\n",
       "      <td>45385.311327</td>\n",
       "      <td>19541.0461</td>\n",
       "      <td>1023.686253</td>\n",
       "      <td>24820.578975</td>\n",
       "    </tr>\n",
       "    <tr>\n",
       "      <th>1</th>\n",
       "      <td>No</td>\n",
       "      <td>Yes</td>\n",
       "      <td>817.180407</td>\n",
       "      <td>12106.134700</td>\n",
       "      <td>45385.311327</td>\n",
       "      <td>19541.0461</td>\n",
       "      <td>33279.176627</td>\n",
       "      <td>7434.911399</td>\n",
       "    </tr>\n",
       "    <tr>\n",
       "      <th>2</th>\n",
       "      <td>No</td>\n",
       "      <td>No</td>\n",
       "      <td>1073.549164</td>\n",
       "      <td>31767.138947</td>\n",
       "      <td>45385.311327</td>\n",
       "      <td>19541.0461</td>\n",
       "      <td>13618.172379</td>\n",
       "      <td>12226.092848</td>\n",
       "    </tr>\n",
       "    <tr>\n",
       "      <th>3</th>\n",
       "      <td>No</td>\n",
       "      <td>No</td>\n",
       "      <td>529.250605</td>\n",
       "      <td>35704.493935</td>\n",
       "      <td>45385.311327</td>\n",
       "      <td>19541.0461</td>\n",
       "      <td>9680.817392</td>\n",
       "      <td>16163.447835</td>\n",
       "    </tr>\n",
       "    <tr>\n",
       "      <th>4</th>\n",
       "      <td>No</td>\n",
       "      <td>No</td>\n",
       "      <td>785.655883</td>\n",
       "      <td>38463.495879</td>\n",
       "      <td>45385.311327</td>\n",
       "      <td>19541.0461</td>\n",
       "      <td>6921.815448</td>\n",
       "      <td>18922.449779</td>\n",
       "    </tr>\n",
       "  </tbody>\n",
       "</table>\n",
       "</div>"
      ],
      "text/plain": [
       "  default student      balance        income  local_maxima  local_minima  \\\n",
       "0      No      No   729.526495  44361.625074  45385.311327    19541.0461   \n",
       "1      No     Yes   817.180407  12106.134700  45385.311327    19541.0461   \n",
       "2      No      No  1073.549164  31767.138947  45385.311327    19541.0461   \n",
       "3      No      No   529.250605  35704.493935  45385.311327    19541.0461   \n",
       "4      No      No   785.655883  38463.495879  45385.311327    19541.0461   \n",
       "\n",
       "   proximity_maxima  proximity_minima  \n",
       "0       1023.686253      24820.578975  \n",
       "1      33279.176627       7434.911399  \n",
       "2      13618.172379      12226.092848  \n",
       "3       9680.817392      16163.447835  \n",
       "4       6921.815448      18922.449779  "
      ]
     },
     "execution_count": 64,
     "metadata": {},
     "output_type": "execute_result"
    }
   ],
   "source": [
    "data.head()"
   ]
  },
  {
   "cell_type": "markdown",
   "metadata": {},
   "source": [
    "#### Determine if the income is nearer to minima or maxima. \n",
    "* Our assumption/prior knowledge is that income values for students will be on the lower side and non students will have their incomes in the higher range. Hence, if the income value is nearer to minima, we classify it as a student's income and vice versa. That means, proximity_minima is lesser than proximity_maxima."
   ]
  },
  {
   "cell_type": "code",
   "execution_count": 36,
   "metadata": {},
   "outputs": [],
   "source": [
    "def mark_income_class (proximity_maxima, proximity_minima):\n",
    "    \n",
    "    if (proximity_minima < proximity_maxima):\n",
    "        return \"Yes\"\n",
    "    \n",
    "    return \"No\"\n"
   ]
  },
  {
   "cell_type": "code",
   "execution_count": 65,
   "metadata": {},
   "outputs": [],
   "source": [
    "data[\"income_class_student\"] = data.apply(lambda row: mark_income_class (row[\"proximity_maxima\"], row[\"proximity_minima\"]), axis=1)"
   ]
  },
  {
   "cell_type": "code",
   "execution_count": 66,
   "metadata": {
    "scrolled": true
   },
   "outputs": [
    {
     "data": {
      "text/html": [
       "<div>\n",
       "<style scoped>\n",
       "    .dataframe tbody tr th:only-of-type {\n",
       "        vertical-align: middle;\n",
       "    }\n",
       "\n",
       "    .dataframe tbody tr th {\n",
       "        vertical-align: top;\n",
       "    }\n",
       "\n",
       "    .dataframe thead th {\n",
       "        text-align: right;\n",
       "    }\n",
       "</style>\n",
       "<table border=\"1\" class=\"dataframe\">\n",
       "  <thead>\n",
       "    <tr style=\"text-align: right;\">\n",
       "      <th></th>\n",
       "      <th>default</th>\n",
       "      <th>student</th>\n",
       "      <th>balance</th>\n",
       "      <th>income</th>\n",
       "      <th>local_maxima</th>\n",
       "      <th>local_minima</th>\n",
       "      <th>proximity_maxima</th>\n",
       "      <th>proximity_minima</th>\n",
       "      <th>income_class_student</th>\n",
       "    </tr>\n",
       "  </thead>\n",
       "  <tbody>\n",
       "    <tr>\n",
       "      <th>0</th>\n",
       "      <td>No</td>\n",
       "      <td>No</td>\n",
       "      <td>729.526495</td>\n",
       "      <td>44361.625074</td>\n",
       "      <td>45385.311327</td>\n",
       "      <td>19541.0461</td>\n",
       "      <td>1023.686253</td>\n",
       "      <td>24820.578975</td>\n",
       "      <td>No</td>\n",
       "    </tr>\n",
       "    <tr>\n",
       "      <th>1</th>\n",
       "      <td>No</td>\n",
       "      <td>Yes</td>\n",
       "      <td>817.180407</td>\n",
       "      <td>12106.134700</td>\n",
       "      <td>45385.311327</td>\n",
       "      <td>19541.0461</td>\n",
       "      <td>33279.176627</td>\n",
       "      <td>7434.911399</td>\n",
       "      <td>Yes</td>\n",
       "    </tr>\n",
       "    <tr>\n",
       "      <th>2</th>\n",
       "      <td>No</td>\n",
       "      <td>No</td>\n",
       "      <td>1073.549164</td>\n",
       "      <td>31767.138947</td>\n",
       "      <td>45385.311327</td>\n",
       "      <td>19541.0461</td>\n",
       "      <td>13618.172379</td>\n",
       "      <td>12226.092848</td>\n",
       "      <td>Yes</td>\n",
       "    </tr>\n",
       "    <tr>\n",
       "      <th>3</th>\n",
       "      <td>No</td>\n",
       "      <td>No</td>\n",
       "      <td>529.250605</td>\n",
       "      <td>35704.493935</td>\n",
       "      <td>45385.311327</td>\n",
       "      <td>19541.0461</td>\n",
       "      <td>9680.817392</td>\n",
       "      <td>16163.447835</td>\n",
       "      <td>No</td>\n",
       "    </tr>\n",
       "    <tr>\n",
       "      <th>4</th>\n",
       "      <td>No</td>\n",
       "      <td>No</td>\n",
       "      <td>785.655883</td>\n",
       "      <td>38463.495879</td>\n",
       "      <td>45385.311327</td>\n",
       "      <td>19541.0461</td>\n",
       "      <td>6921.815448</td>\n",
       "      <td>18922.449779</td>\n",
       "      <td>No</td>\n",
       "    </tr>\n",
       "  </tbody>\n",
       "</table>\n",
       "</div>"
      ],
      "text/plain": [
       "  default student      balance        income  local_maxima  local_minima  \\\n",
       "0      No      No   729.526495  44361.625074  45385.311327    19541.0461   \n",
       "1      No     Yes   817.180407  12106.134700  45385.311327    19541.0461   \n",
       "2      No      No  1073.549164  31767.138947  45385.311327    19541.0461   \n",
       "3      No      No   529.250605  35704.493935  45385.311327    19541.0461   \n",
       "4      No      No   785.655883  38463.495879  45385.311327    19541.0461   \n",
       "\n",
       "   proximity_maxima  proximity_minima income_class_student  \n",
       "0       1023.686253      24820.578975                   No  \n",
       "1      33279.176627       7434.911399                  Yes  \n",
       "2      13618.172379      12226.092848                  Yes  \n",
       "3       9680.817392      16163.447835                   No  \n",
       "4       6921.815448      18922.449779                   No  "
      ]
     },
     "execution_count": 66,
     "metadata": {},
     "output_type": "execute_result"
    }
   ],
   "source": [
    "data.head()"
   ]
  },
  {
   "cell_type": "markdown",
   "metadata": {},
   "source": [
    "#### Calculate True Positives (TP), True Negatives (TN), False Positives (FP) and False Negatives (FN)"
   ]
  },
  {
   "cell_type": "code",
   "execution_count": 44,
   "metadata": {},
   "outputs": [],
   "source": [
    "data[\"true_positive\"] = data.apply(lambda row: 1 if ((row[\"income_class_student\"]=='Yes') and (row[\"student\"]=='Yes')) \n",
    "                                   else 0, axis=1 )\n",
    "data[\"true_negative\"] = data.apply(lambda row: 1 if ((row[\"income_class_student\"]=='No') and (row[\"student\"]=='No')) \n",
    "                                   else 0, axis=1 )\n",
    "data[\"false_positive\"] = data.apply(lambda row: 1 if ((row[\"income_class_student\"]=='Yes') and (row[\"student\"]=='No')) \n",
    "                                   else 0, axis=1 )\n",
    "data[\"false_negative\"] = data.apply(lambda row: 1 if ((row[\"income_class_student\"]=='No') and (row[\"student\"]=='Yes')) \n",
    "                                   else 0, axis=1 )"
   ]
  },
  {
   "cell_type": "code",
   "execution_count": 45,
   "metadata": {},
   "outputs": [],
   "source": [
    "TP = data[\"true_positive\"].sum()\n",
    "TN = data[\"true_negative\"].sum()\n",
    "FP = data[\"false_positive\"].sum()\n",
    "FN = data[\"false_negative\"].sum()"
   ]
  },
  {
   "cell_type": "code",
   "execution_count": 67,
   "metadata": {},
   "outputs": [
    {
     "name": "stdout",
     "output_type": "stream",
     "text": [
      "2941\n",
      "5490\n",
      "1566\n",
      "3\n"
     ]
    }
   ],
   "source": [
    "print(TP)\n",
    "print(TN)\n",
    "print(FP)\n",
    "print(FN)"
   ]
  },
  {
   "cell_type": "markdown",
   "metadata": {},
   "source": [
    "#### Calculate Accuracy, Precision, Recall and F1 score"
   ]
  },
  {
   "cell_type": "code",
   "execution_count": 53,
   "metadata": {},
   "outputs": [],
   "source": [
    "accuracy  = (TP+TN)/(TP+FP+FN+TN)\n",
    "precision = TP/(TP+FP)\n",
    "recall    = TP/(TP+FN)\n",
    "f1 = 2* (precision * recall)/(precision+recall)"
   ]
  },
  {
   "cell_type": "code",
   "execution_count": 55,
   "metadata": {},
   "outputs": [
    {
     "name": "stdout",
     "output_type": "stream",
     "text": [
      "Accuracy: 0.8431\n",
      "Precision: 0.6525404925671178\n",
      "Recall: 0.9989809782608695\n",
      "F1 score: 0.7894242383572674\n"
     ]
    }
   ],
   "source": [
    "print(\"Accuracy: {}\".format(accuracy))\n",
    "print (\"Precision: {}\".format(precision))\n",
    "print(\"Recall: {}\".format(recall))\n",
    "print(\"F1 score: {}\".format(f1))"
   ]
  },
  {
   "cell_type": "code",
   "execution_count": null,
   "metadata": {},
   "outputs": [],
   "source": []
  }
 ],
 "metadata": {
  "kernelspec": {
   "display_name": "Python 3",
   "language": "python",
   "name": "python3"
  },
  "language_info": {
   "codemirror_mode": {
    "name": "ipython",
    "version": 3
   },
   "file_extension": ".py",
   "mimetype": "text/x-python",
   "name": "python",
   "nbconvert_exporter": "python",
   "pygments_lexer": "ipython3",
   "version": "3.6.5"
  }
 },
 "nbformat": 4,
 "nbformat_minor": 2
}
